{
 "cells": [
  {
   "cell_type": "code",
   "execution_count": 3,
   "metadata": {},
   "outputs": [
    {
     "name": "stdout",
     "output_type": "stream",
     "text": [
      "Enter Radius of a Cicle .5\n",
      "0.7853981633974483\n"
     ]
    }
   ],
   "source": [
    "# Calculate the Area of Circle\n",
    "import math\n",
    "radius = float(input(\"Enter Radius of a Cicle \"))\n",
    "area = math.pi * (math.pow(radius,2))\n",
    "print(area)\n",
    "    "
   ]
  },
  {
   "cell_type": "code",
   "execution_count": 19,
   "metadata": {},
   "outputs": [
    {
     "name": "stdout",
     "output_type": "stream",
     "text": [
      "Enter Any Number: 0\n",
      "Zero Entered\n"
     ]
    }
   ],
   "source": [
    "# Check Number either Positive, Negative or Zero\n",
    "\n",
    "num = float(input(\"Enter Any Number: \"))\n",
    "if num > 0:\n",
    "    print(\"Positive Number Entered\")\n",
    "elif num == 0:\n",
    "    print(\"Zero Entered\")\n",
    "elif num < 0:\n",
    "    print(\"Negative Number Entered\")\n",
    "else:\n",
    "    print(\"Number is not Positive, Negative or Zero\")"
   ]
  },
  {
   "cell_type": "code",
   "execution_count": 28,
   "metadata": {},
   "outputs": [
    {
     "name": "stdout",
     "output_type": "stream",
     "text": [
      "Enter Numerator: 4\n",
      "Enter Denominator: 2\n",
      "Number  4 is completely Divisible by number  2\n"
     ]
    }
   ],
   "source": [
    "# Divisibality Check of Two Numbers\n",
    "\n",
    "num01 = int(input(\"Enter Numerator: \"))\n",
    "num02 = int(input(\"Enter Denominator: \"))\n",
    "\n",
    "if num01 % num02 == 0:\n",
    "    print(\"Number \",num01,\"is completely Divisible by number \",num02)\n",
    "else:\n",
    "    print(\"Number \",num01,\"is not completely Divisible by number \",num02)"
   ]
  },
  {
   "cell_type": "code",
   "execution_count": 38,
   "metadata": {},
   "outputs": [
    {
     "name": "stdout",
     "output_type": "stream",
     "text": [
      "Enter First Date In Format dd/mm/yyyy: 12/06/2019\n",
      "Enter Second Date In Format dd/mm/yyyy: 20/06/2019\n",
      "There are  8 days in between  12/06/2019 and  20/06/2019\n"
     ]
    }
   ],
   "source": [
    "# Days Calculator\n",
    "\n",
    "import datetime\n",
    "\n",
    "date01 = datetime.datetime.strptime(input('Enter First Date In Format dd/mm/yyyy: '), '%d/%m/%Y')\n",
    "date02 = datetime.datetime.strptime(input('Enter Second Date In Format dd/mm/yyyy: '), '%d/%m/%Y')\n",
    "dif = date02-date01\n",
    "print(\"There are \",dif.days,\"days in between \",date01.strftime('%d/%m/%Y'), \"and \",date02.strftime('%d/%m/%Y'))"
   ]
  },
  {
   "cell_type": "code",
   "execution_count": 1,
   "metadata": {},
   "outputs": [
    {
     "name": "stdout",
     "output_type": "stream",
     "text": [
      "Enter Radius of Sphere: 1\n",
      "Volume of the Sphere with Radius  1.0 is  4.1887902047863905\n"
     ]
    }
   ],
   "source": [
    "# Calculate Volume of a sphere\n",
    "# V = 4/3(pi*r**3)\n",
    "\n",
    "import math\n",
    "\n",
    "radius = float(input(\"Enter Radius of Sphere: \"))\n",
    "v = ((4/3) * math.pi * (math.pow(radius, 3)))\n",
    "print(\"Volume of the Sphere with Radius \",radius, \"is \", v)\n"
   ]
  },
  {
   "cell_type": "code",
   "execution_count": 3,
   "metadata": {},
   "outputs": [
    {
     "name": "stdout",
     "output_type": "stream",
     "text": [
      "Enter String: Hi\n",
      "How many copies of String you need: 4\n",
      "4  Copies of  Hi  are  HiHiHiHi\n"
     ]
    }
   ],
   "source": [
    "# Copy string n times\n",
    "\n",
    "msg= input(\"Enter String: \")\n",
    "copies = int(input(\"How many copies of String you need: \"))\n",
    "print(copies,\" Copies of \",msg,\" are \",msg * copies)"
   ]
  },
  {
   "cell_type": "code",
   "execution_count": 5,
   "metadata": {},
   "outputs": [
    {
     "name": "stdout",
     "output_type": "stream",
     "text": [
      "Enter Number: 5\n",
      "5 is Odd\n"
     ]
    }
   ],
   "source": [
    "# Check if number is Even or Odd\n",
    "\n",
    "num = int(input(\"Enter Number: \"))\n",
    "if num % 2 == 0:\n",
    "    print(num,\"is Even\")\n",
    "else:\n",
    "    print(num,\"is Odd\")"
   ]
  },
  {
   "cell_type": "code",
   "execution_count": 5,
   "metadata": {},
   "outputs": [
    {
     "name": "stdout",
     "output_type": "stream",
     "text": [
      "Enter a character: A\n",
      "Letter  A  is Vowel\n"
     ]
    }
   ],
   "source": [
    "# Vowel Tester\n",
    "\n",
    "char = (input(\"Enter a character: \"))\n",
    "if char.lower() in ('a','e','i','o','u'):\n",
    "    print(\"Letter \",char,\" is Vowel\")\n",
    "else:\n",
    "    print(\"Letter \",char,\" is not Vowel\")"
   ]
  },
  {
   "cell_type": "code",
   "execution_count": 1,
   "metadata": {},
   "outputs": [
    {
     "name": "stdout",
     "output_type": "stream",
     "text": [
      "Enter magnitude of Triangle base: 4\n",
      "Enter Magnitude of Triangle Height: 4\n",
      "Area of a Triangle with Height 4.0  and Base 4.0  is  8.0\n"
     ]
    }
   ],
   "source": [
    "# Triangle area\n",
    "\n",
    "import math\n",
    "\n",
    "base = float(input(\"Enter magnitude of Triangle base: \"))\n",
    "height = float(input(\"Enter Magnitude of Triangle Height: \"))\n",
    "\n",
    "area = (base * height)/2;\n",
    "print(\"Area of a Triangle with Height\",height,\" and Base\",base,\" is \",area)"
   ]
  },
  {
   "cell_type": "code",
   "execution_count": 2,
   "metadata": {},
   "outputs": [
    {
     "name": "stdout",
     "output_type": "stream",
     "text": [
      "Please enter principal amount: 10000\n",
      "Please Enter Rate of interest in %: 0.1\n",
      "Enter number of years for investment: 5\n",
      "After  5 years your principal amount  10000 over an interest rate of  0.1 % will be  16105.100000000006\n"
     ]
    }
   ],
   "source": [
    "# Calculate Interest\n",
    "\n",
    "amount = int(input(\"Please enter principal amx2ount: \"))\n",
    "rate = float(input(\"Please Enter Rate of interest in %: \"))\n",
    "years = int(input(\"Enter number of years for investment: \"))\n",
    "\n",
    "interest = amount * ((1+rate) ** years)\n",
    "\n",
    "print(\"After \",years,\"years your principal amount \",amount,\"over an interest rate of \",rate,\"% will be \",interest);"
   ]
  },
  {
   "cell_type": "code",
   "execution_count": 3,
   "metadata": {},
   "outputs": [
    {
     "name": "stdout",
     "output_type": "stream",
     "text": [
      "Enter Co-ordinate for x1: 2\n",
      "Enter Co-ordinate for x2: 4\n",
      "Enter Co-ordinate for y1: 4\n",
      "Enter Co-ordinate for y2: 4\n",
      "Distance between points  (2, 4) and  (4, 4) is  2.0\n"
     ]
    }
   ],
   "source": [
    "# Euclidean distance\n",
    "#((x2-x1)*2+(y2-y1)*2)*1/2\n",
    "\n",
    "x1 = int(input(\"Enter Co-ordinate for x1: \"))\n",
    "x2 = int(input(\"Enter Co-ordinate for x2: \"))\n",
    "y1 = int(input(\"Enter Co-ordinate for y1: \"))\n",
    "y2 = int(input(\"Enter Co-ordinate for y2: \"))\n",
    "a = (x1,x2)\n",
    "b = (y1,y2)\n",
    "\n",
    "distance = ((x2-x1)*2 + (y2-y1)*2) *1/2\n",
    "print(\"Distance between points \",a,\"and \",b,\"is \",distance)"
   ]
  },
  {
   "cell_type": "code",
   "execution_count": 4,
   "metadata": {},
   "outputs": [
    {
     "name": "stdout",
     "output_type": "stream",
     "text": [
      "Enter Height in Feet: 5\n",
      "There are  152.4  Cm in  5  ft\n"
     ]
    }
   ],
   "source": [
    "# Feet to Centimeter Converter\n",
    "\n",
    "feet = int(input(\"Enter Height in Feet: \"))\n",
    "cen = feet * 30.48\n",
    "\n",
    "print(\"There are \",cen,\" Cm in \",feet,\" ft\")"
   ]
  },
  {
   "cell_type": "code",
   "execution_count": 7,
   "metadata": {},
   "outputs": [
    {
     "name": "stdout",
     "output_type": "stream",
     "text": [
      "Enter Height in Cm: 180\n",
      "Enter Weight in Kg: 75\n",
      "Your BMI is  23.148148148148145\n"
     ]
    }
   ],
   "source": [
    "# BMI Calculator\n",
    "#BMI = kg/[height]**2\n",
    "\n",
    "height = int(input(\"Enter Height in Cm: \"))\n",
    "weight = int(input(\"Enter Weight in Kg: \"))\n",
    "hInCm = height/100\n",
    "\n",
    "BMI = weight/hInCm**2\n",
    "print(\"Your BMI is \",BMI)"
   ]
  },
  {
   "cell_type": "code",
   "execution_count": 24,
   "metadata": {},
   "outputs": [
    {
     "name": "stdout",
     "output_type": "stream",
     "text": [
      "Enter value of n: 5\n",
      "Sum of n Positive integers till  5  is  15\n"
     ]
    }
   ],
   "source": [
    "# Sum of n Positive Integers\n",
    "\n",
    "num = int(input(\"Enter value of n: \"))\n",
    "numSame = num\n",
    "num2 = 0\n",
    "for x in range(0,num+1):\n",
    "    num2 += num\n",
    "    num-=1\n",
    "print(\"Sum of n Positive integers till \",numSame,\" is \",num2)"
   ]
  },
  {
   "cell_type": "code",
   "execution_count": 4,
   "metadata": {},
   "outputs": [
    {
     "name": "stdout",
     "output_type": "stream",
     "text": [
      "Enter a number: 1234\n",
      "Sum of 1 + 2 + 3 + 4 is 10\n"
     ]
    }
   ],
   "source": [
    "# Digits Sum of a Number\n",
    "\n",
    "num = input(\"Enter a number: \");\n",
    "length = len(num)\n",
    "sum = 0\n",
    "answer = \"Sum of \"\n",
    "\n",
    "for x in range(0,length):\n",
    "    sum +=int(num[x])\n",
    "    answer += str(num[x])\n",
    "    if x < int(length - 1):\n",
    "        answer += \" + \"\n",
    "    else:\n",
    "        break\n",
    "\n",
    "answer += \" is \"\n",
    "answer += str(sum)\n",
    "print(answer)"
   ]
  },
  {
   "cell_type": "code",
   "execution_count": 5,
   "metadata": {},
   "outputs": [
    {
     "name": "stdout",
     "output_type": "stream",
     "text": [
      "Enter a Decimal Number: 5\n",
      "Binary representatin of  5  is  101\n"
     ]
    }
   ],
   "source": [
    "# 16. Decimal to Binary Converter\n",
    "\n",
    "d1 = d2 = int(input(\"Enter a Decimal Number: \"))\n",
    "binary = \"\"\n",
    "rem = 0\n",
    "\n",
    "if d1 == 0:\n",
    "    binary += \"Not Possible\"\n",
    "    \n",
    "while d1 != 0:\n",
    "    rem = d1%2\n",
    "    d1 = d1//2\n",
    "    binary += str(rem)\n",
    "    if d1 == 0:\n",
    "        rem = 1\n",
    "        \n",
    "binary = binary[::-1]\n",
    "print(\"Binary representatin of \",d2,\" is \",binary)"
   ]
  },
  {
   "cell_type": "code",
   "execution_count": 6,
   "metadata": {},
   "outputs": [
    {
     "name": "stdout",
     "output_type": "stream",
     "text": [
      "Enter a Binary Number: 110\n",
      "Decimal representatin of  110  is  6\n"
     ]
    }
   ],
   "source": [
    "# 17. Binary to Decimal Converter\n",
    "\n",
    "b1 = b2 = input(\"Enter a Binary Number: \")\n",
    "b2 = b2[::-1]\n",
    "length = len(b2)\n",
    "dec = 0\n",
    "\n",
    "for x in range(0,length):\n",
    "    y = int(b2[x])\n",
    "    dec += (y * (2 ** x))\n",
    "    \n",
    "print(\"Decimal representatin of \",b1,\" is \",dec)"
   ]
  },
  {
   "cell_type": "code",
   "execution_count": 10,
   "metadata": {},
   "outputs": [
    {
     "name": "stdout",
     "output_type": "stream",
     "text": [
      "Enter text: QuickBrownFoxJumpsovertheDog\n",
      "Vowels:  9\n",
      "Consonants:  19\n"
     ]
    }
   ],
   "source": [
    "# 18. Vowel and Consonants Counter\n",
    "\n",
    "t = str(input(\"Enter text: \"))\n",
    "length = len(t)\n",
    "vow = con = 0\n",
    "\n",
    "for c in range(0,length):\n",
    "    if t[c].lower() == \"a\" or t[c] == \"e\" or t[c] == \"i\" or t[c] == \"o\" or t[c] == \"u\":\n",
    "        vow += 1\n",
    "    else:\n",
    "        con += 1\n",
    "\n",
    "print(\"Vowels: \",vow)\n",
    "print(\"Consonants: \",con)"
   ]
  },
  {
   "cell_type": "code",
   "execution_count": 11,
   "metadata": {},
   "outputs": [
    {
     "name": "stdout",
     "output_type": "stream",
     "text": [
      "Enter text: Hello\n",
      "Text Hello is not Palindrom\n"
     ]
    }
   ],
   "source": [
    "# 19. Palindrome tester\n",
    "\n",
    "text = str(input(\"Enter text: \"))\n",
    "len1 = len(text)\n",
    "len2 = len1 // 2\n",
    "\n",
    "for ch in range(0,len2):\n",
    "    if text[ch] == text[len1 - ch -1]:\n",
    "        answer = (\"is Palindrom\")\n",
    "    else:\n",
    "        answer = (\"is not Palindrom\")\n",
    "        break\n",
    "\n",
    "print(\"Text\",text,answer)"
   ]
  },
  {
   "cell_type": "code",
   "execution_count": 12,
   "metadata": {},
   "outputs": [
    {
     "name": "stdout",
     "output_type": "stream",
     "text": [
      "Enter Text: Python 3.2\n",
      "Numbers =  2\n",
      "Alphabets =  6\n",
      "Special Characters =  1\n",
      "Spaces =  1\n"
     ]
    }
   ],
   "source": [
    "# 20. Count Alphabets, Numbers and Special Characters\n",
    "\n",
    "string = list(input(\"Enter Text: \"))\n",
    "length = len(string)\n",
    "num = alp = spl = spc = 0\n",
    "\n",
    "for x in range(0,length):\n",
    "    ch = string[x]\n",
    "    chk1 = ch.isalpha()\n",
    "    if chk1 == True:\n",
    "        alp += 1\n",
    "    else:\n",
    "        chk2 = ch.isnumeric()\n",
    "        if chk2 == True:\n",
    "            num += 1\n",
    "        else:\n",
    "            if ch == \" \":\n",
    "                spc += 1\n",
    "            else:\n",
    "                spl += 1\n",
    "\n",
    "print(\"Numbers = \",num)\n",
    "print(\"Alphabets = \",alp)\n",
    "print(\"Special Characters = \",spl)\n",
    "print(\"Spaces = \",spc)"
   ]
  },
  {
   "cell_type": "code",
   "execution_count": 14,
   "metadata": {},
   "outputs": [
    {
     "name": "stdout",
     "output_type": "stream",
     "text": [
      "Enter Range: 5\n",
      "* \n",
      "* * \n",
      "* * * \n",
      "* * * * \n",
      "* * * * * \n",
      "* * * * \n",
      "* * * \n",
      "* * \n",
      "* \n"
     ]
    }
   ],
   "source": [
    "# 21. Write a Python program to construct the following pattern\n",
    "\n",
    "i = \"* \"\n",
    "x = int(input(\"Enter Range: \"))\n",
    "y = 0\n",
    "\n",
    "for c in range(1,(x * 2)):\n",
    "    if c <= x:\n",
    "        print(i * c)\n",
    "    else:\n",
    "        y += 2\n",
    "        print(i * (c - y))\n",
    "\n"
   ]
  },
  {
   "cell_type": "code",
   "execution_count": 15,
   "metadata": {},
   "outputs": [
    {
     "name": "stdout",
     "output_type": "stream",
     "text": [
      "Enter Range: 5\n",
      "1 \n",
      "\n",
      "1 2 \n",
      "\n",
      "1 2 3 \n",
      "\n",
      "1 2 3 4 \n",
      "\n",
      "1 2 3 4 5 \n",
      "\n",
      "1 2 3 4 \n",
      "\n",
      "1 2 3 \n",
      "\n",
      "1 2 \n",
      "\n",
      "1 \n",
      "\n",
      "\n",
      "\n"
     ]
    }
   ],
   "source": [
    "# 22. Write a Python program to construct the following pattern\n",
    "\n",
    "x = int(input(\"Enter Range: \"))\n",
    "\n",
    "for y in range(1,(x + 1)):\n",
    "    for z in range(1,(y + 1)):\n",
    "        print(z,end = \" \")\n",
    "    print(\"\\n\")\n",
    "    \n",
    "for y in range((x + 1),1,-1):\n",
    "    for z in range(1,(y - 1)):\n",
    "        print(z,end = \" \")\n",
    "    print(\"\\n\")"
   ]
  },
  {
   "cell_type": "code",
   "execution_count": 16,
   "metadata": {},
   "outputs": [
    {
     "name": "stdout",
     "output_type": "stream",
     "text": [
      "Enter Range: 9\n",
      "1 \n",
      "\n",
      "2 2 \n",
      "\n",
      "3 3 3 \n",
      "\n",
      "4 4 4 4 \n",
      "\n",
      "5 5 5 5 5 \n",
      "\n",
      "6 6 6 6 6 6 \n",
      "\n",
      "7 7 7 7 7 7 7 \n",
      "\n",
      "8 8 8 8 8 8 8 8 \n",
      "\n",
      "9 9 9 9 9 9 9 9 9 \n",
      "\n"
     ]
    }
   ],
   "source": [
    "# 23. Write a Python program to construct the following pattern\n",
    "\n",
    "x = int(input(\"Enter Range: \"))\n",
    "\n",
    "for y in range(1,(x + 1)):\n",
    "    for z in range(1,(y + 1)):\n",
    "        print(y,end = \" \")\n",
    "    print(\"\\n\")"
   ]
  },
  {
   "cell_type": "code",
   "execution_count": null,
   "metadata": {},
   "outputs": [],
   "source": []
  }
 ],
 "metadata": {
  "kernelspec": {
   "display_name": "Python 3",
   "language": "python",
   "name": "python3"
  },
  "language_info": {
   "codemirror_mode": {
    "name": "ipython",
    "version": 3
   },
   "file_extension": ".py",
   "mimetype": "text/x-python",
   "name": "python",
   "nbconvert_exporter": "python",
   "pygments_lexer": "ipython3",
   "version": "3.7.3"
  }
 },
 "nbformat": 4,
 "nbformat_minor": 2
}
